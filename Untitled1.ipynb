{
  "nbformat": 4,
  "nbformat_minor": 0,
  "metadata": {
    "colab": {
      "provenance": [],
      "gpuType": "T4",
      "authorship_tag": "ABX9TyMj6UvpHDvq1OnL6qz04Cq3",
      "include_colab_link": true
    },
    "kernelspec": {
      "name": "python3",
      "display_name": "Python 3"
    },
    "language_info": {
      "name": "python"
    },
    "accelerator": "GPU"
  },
  "cells": [
    {
      "cell_type": "markdown",
      "metadata": {
        "id": "view-in-github",
        "colab_type": "text"
      },
      "source": [
        "<a href=\"https://colab.research.google.com/github/Muzsek/Captcha_AI_2/blob/main/Untitled1.ipynb\" target=\"_parent\"><img src=\"https://colab.research.google.com/assets/colab-badge.svg\" alt=\"Open In Colab\"/></a>"
      ]
    },
    {
      "cell_type": "code",
      "execution_count": 4,
      "metadata": {
        "colab": {
          "base_uri": "https://localhost:8080/"
        },
        "id": "HAS2-xDCYZSN",
        "outputId": "0e2dbef8-a8b4-40eb-e815-c444f10cf114"
      },
      "outputs": [
        {
          "output_type": "stream",
          "name": "stdout",
          "text": [
            "Requirement already satisfied: captcha in /usr/local/lib/python3.11/dist-packages (0.7.1)\n",
            "Requirement already satisfied: Pillow in /usr/local/lib/python3.11/dist-packages (from captcha) (11.3.0)\n"
          ]
        }
      ],
      "source": [
        "!pip install captcha"
      ]
    },
    {
      "cell_type": "code",
      "source": [
        "import torch\n",
        "from captcha.image import ImageCaptcha\n",
        "import numpy as np\n",
        "import matplotlib.pyplot as plt\n",
        "from torch.utils.data import Dataset\n",
        "from torch.utils.data import DataLoader\n",
        "from torchvision import transforms\n",
        "import string\n",
        "import random\n",
        "from pathlib import Path\n",
        "from PIL import Image\n",
        "import torch.nn as nn"
      ],
      "metadata": {
        "id": "P80_B-c0YbLM"
      },
      "execution_count": 21,
      "outputs": []
    },
    {
      "cell_type": "code",
      "source": [
        "device = \"cuda\" if torch.cuda.is_available() else \"cpu\""
      ],
      "metadata": {
        "id": "WOpDNa_6ytWw"
      },
      "execution_count": 6,
      "outputs": []
    },
    {
      "cell_type": "code",
      "source": [
        "!mkdir data\n",
        "!mkdir ./data/training\n",
        "!mkdir ./data/testing"
      ],
      "metadata": {
        "id": "6409wzAkcqrN"
      },
      "execution_count": 7,
      "outputs": []
    },
    {
      "cell_type": "code",
      "source": [
        "# from ast import Num\n",
        "training_path = Path('./data/training')\n",
        "testing_path = Path('./data/testing')\n",
        "\n",
        "chars = string.ascii_lowercase + string.ascii_uppercase + string.digits\n",
        "# chars\n",
        "chars_to_num = {char: i for i, char in enumerate(chars)}\n",
        "num_to_chars = {i: char for i, char in enumerate(chars)}\n",
        "\n",
        "label_test = \"aAa123\"\n",
        "label_num = [chars_to_num[char] for char in label_test]\n",
        "label_num"
      ],
      "metadata": {
        "colab": {
          "base_uri": "https://localhost:8080/"
        },
        "id": "xgjLLPcscwEm",
        "outputId": "04202cdd-c014-48d0-b53d-5ccab7876bcd"
      },
      "execution_count": 8,
      "outputs": [
        {
          "output_type": "execute_result",
          "data": {
            "text/plain": [
              "[0, 26, 0, 53, 54, 55]"
            ]
          },
          "metadata": {},
          "execution_count": 8
        }
      ]
    },
    {
      "cell_type": "code",
      "source": [
        "image = ImageCaptcha(width=200, height=60)\n",
        "\n",
        "for i in range(10000):\n",
        "  label = ''.join(random.choices(chars, k=6))\n",
        "  data = image.generate(label)\n",
        "  image.write(label, f'{training_path}/{label}_{i}.png')\n",
        "\n",
        "for i in range(2000):\n",
        "  label = ''.join(random.choices(chars, k=6))\n",
        "  data = image.generate(label)\n",
        "  image.write(label, f'{testing_path}/{label}_{i}.png')"
      ],
      "metadata": {
        "id": "nFk7gBH1rOdL"
      },
      "execution_count": 9,
      "outputs": []
    },
    {
      "cell_type": "code",
      "source": [
        "# !rm -rf ./data/training/*\n",
        "# !rm -rf ./data/testing/*"
      ],
      "metadata": {
        "id": "3BybUgcrc9c9"
      },
      "execution_count": 10,
      "outputs": []
    },
    {
      "cell_type": "code",
      "source": [
        "len(list(training_path.glob('*')))\n",
        "len(list(testing_path.glob('*')))"
      ],
      "metadata": {
        "colab": {
          "base_uri": "https://localhost:8080/"
        },
        "id": "z24Iz9EhfNOg",
        "outputId": "bd093af4-08f4-46fd-9f21-9349391ac975"
      },
      "execution_count": 11,
      "outputs": [
        {
          "output_type": "execute_result",
          "data": {
            "text/plain": [
              "2000"
            ]
          },
          "metadata": {},
          "execution_count": 11
        }
      ]
    },
    {
      "cell_type": "code",
      "source": [
        "train_data = list(training_path.glob('*'))\n",
        "test_data = list(testing_path.glob('*'))"
      ],
      "metadata": {
        "id": "Rt-Khk3fiDrx"
      },
      "execution_count": 12,
      "outputs": []
    },
    {
      "cell_type": "code",
      "source": [
        "print(f\"{train_data[0]}\\n{test_data[0]}\")"
      ],
      "metadata": {
        "colab": {
          "base_uri": "https://localhost:8080/"
        },
        "id": "LzOU5PVDiLoo",
        "outputId": "0646fb70-1c27-41af-bf26-44d66885b6b7"
      },
      "execution_count": 13,
      "outputs": [
        {
          "output_type": "stream",
          "name": "stdout",
          "text": [
            "data/training/hKygmc_1280.png\n",
            "data/testing/2fDMOA_1321.png\n"
          ]
        }
      ]
    },
    {
      "cell_type": "code",
      "source": [
        "transform = transforms.Compose([\n",
        "    transforms.ToTensor(),\n",
        "    transforms.Normalize((0.5,), (0.5,))\n",
        "])"
      ],
      "metadata": {
        "id": "KWvVRM_ViMd7"
      },
      "execution_count": 14,
      "outputs": []
    },
    {
      "cell_type": "code",
      "source": [
        "class CaptchaDataset(Dataset):\n",
        "  def __init__(self, image_path, transform):\n",
        "    self.image_path = image_path\n",
        "    self.transform = transform\n",
        "\n",
        "  def __len__(self):\n",
        "    return len(self.image_path)\n",
        "\n",
        "  def __getitem__(self, index):\n",
        "    image_path = self.image_path[index]\n",
        "    image = Image.open(image_path).convert('RGB')\n",
        "\n",
        "    file_name = image_path.stem\n",
        "    label_char = file_name.split('_')[0]\n",
        "\n",
        "    label_num = [chars_to_num[char] for char in label_char]\n",
        "\n",
        "    return self.transform(image), torch.tensor(label_num, dtype=torch.long)"
      ],
      "metadata": {
        "id": "kvg1nthyojUL"
      },
      "execution_count": 15,
      "outputs": []
    },
    {
      "cell_type": "code",
      "source": [
        "train_dataset = CaptchaDataset(train_data, transform = transform)\n",
        "test_dataset = CaptchaDataset(test_data, transform = transform)"
      ],
      "metadata": {
        "id": "fZOi5sXDsAgi"
      },
      "execution_count": 16,
      "outputs": []
    },
    {
      "cell_type": "code",
      "source": [
        "plt.imshow(train_dataset[0][0].permute(1, 2, 0))"
      ],
      "metadata": {
        "colab": {
          "base_uri": "https://localhost:8080/",
          "height": 269
        },
        "id": "wyxPGZpwvLwh",
        "outputId": "8a846872-44ae-4e19-db89-5284d34c85ec"
      },
      "execution_count": 17,
      "outputs": [
        {
          "output_type": "stream",
          "name": "stderr",
          "text": [
            "WARNING:matplotlib.image:Clipping input data to the valid range for imshow with RGB data ([0..1] for floats or [0..255] for integers). Got range [-0.70980394..1.0].\n"
          ]
        },
        {
          "output_type": "execute_result",
          "data": {
            "text/plain": [
              "<matplotlib.image.AxesImage at 0x79ca12f3d490>"
            ]
          },
          "metadata": {},
          "execution_count": 17
        },
        {
          "output_type": "display_data",
          "data": {
            "text/plain": [
              "<Figure size 640x480 with 1 Axes>"
            ],
            "image/png": "[encoded data removed]"
          },
          "metadata": {}
        }
      ]
    },
    {
      "cell_type": "code",
      "source": [
        "print([num_to_chars[int(chars)] for chars in train_dataset[0][1]])\n",
        "train_data[0]"
      ],
      "metadata": {
        "colab": {
          "base_uri": "https://localhost:8080/"
        },
        "id": "1E_72k7rsrXD",
        "outputId": "28ed2beb-0a4a-4aba-e888-a69095c61a6b"
      },
      "execution_count": 18,
      "outputs": [
        {
          "output_type": "stream",
          "name": "stdout",
          "text": [
            "['h', 'K', 'y', 'g', 'm', 'c']\n"
          ]
        },
        {
          "output_type": "execute_result",
          "data": {
            "text/plain": [
              "PosixPath('data/training/hKygmc_1280.png')"
            ]
          },
          "metadata": {},
          "execution_count": 18
        }
      ]
    },
    {
      "cell_type": "code",
      "source": [
        "train_loader = DataLoader(train_dataset, batch_size=64, shuffle=True)\n",
        "test_loader = DataLoader(test_dataset, batch_size=64, shuffle=False)\n",
        "train_dummy_loader = DataLoader(train_dataset, batch_size=1, shuffle=True)\n",
        "test_dummy_loader = DataLoader(test_dataset, batch_size=1, shuffle=False)"
      ],
      "metadata": {
        "id": "wU_Iefb-smo_"
      },
      "execution_count": 19,
      "outputs": []
    },
    {
      "cell_type": "code",
      "source": [
        "for images, labels in train_dummy_loader:\n",
        "    print(\"Images batch shape:\", images.shape) # Batch size, C, H, W\n",
        "    print(\"Labels batch:\", labels)\n",
        "    break"
      ],
      "metadata": {
        "colab": {
          "base_uri": "https://localhost:8080/"
        },
        "id": "SzwX7lPm23Fh",
        "outputId": "0b9712f3-4ac1-4e4f-b5f6-65b097ce1f88"
      },
      "execution_count": 20,
      "outputs": [
        {
          "output_type": "stream",
          "name": "stdout",
          "text": [
            "Images batch shape: torch.Size([1, 3, 60, 200])\n",
            "Labels batch: tensor([[17, 11, 22, 14, 27, 57]])\n"
          ]
        }
      ]
    },
    {
      "cell_type": "code",
      "source": [
        "class CNN(nn.Module):\n",
        "  def __init__(self):\n",
        "    super().__init__()\n",
        "\n",
        "    self.conv1_block = nn.Sequential(\n",
        "        nn.Conv2d(3, 16,3,1,1),\n",
        "        nn.ReLU(),\n",
        "        nn.Conv2d(16, 32, 3, 1, 1),\n",
        "        nn.ReLU(),\n",
        "        nn.MaxPool2d((2, 2))\n",
        "    )\n",
        "\n",
        "    self.conv2_block = nn.Sequential(\n",
        "        nn.Conv2d(32, 64, 3, 1, 1),\n",
        "        nn.ReLU(),\n",
        "        nn.Conv2d(64, 128, 3, 1, 1),\n",
        "        nn.ReLU(),\n",
        "        nn.MaxPool2d((2, 2))\n",
        "    )\n",
        "\n",
        "    self.classifier = nn.Sequential(\n",
        "        nn.Flatten(),\n",
        "        nn.Linear(128 * 15 * 50, len(chars)*6)\n",
        "    )\n",
        "\n",
        "\n",
        "  def forward(self, x):\n",
        "    x = self.conv1_block(x)\n",
        "    # print(x.shape)\n",
        "    x = self.conv2_block(x)\n",
        "    # print(x.shape)\n",
        "    x = self.classifier(x)\n",
        "    # print(f\"After flatten: {x.shape}\")\n",
        "    x = x.view(-1, 6, len(chars))\n",
        "    return x\n",
        "    # return self.classifier(self.conv2_block(self.conv1_block(x)))\n",
        "\n",
        "model_0 = CNN().to(device)\n",
        "model_0"
      ],
      "metadata": {
        "id": "syQiwncc242I",
        "colab": {
          "base_uri": "https://localhost:8080/"
        },
        "outputId": "75c9f638-2e4c-44ae-cf57-c2b135a9c73d"
      },
      "execution_count": 41,
      "outputs": [
        {
          "output_type": "execute_result",
          "data": {
            "text/plain": [
              "CNN(\n",
              "  (conv1_block): Sequential(\n",
              "    (0): Conv2d(3, 16, kernel_size=(3, 3), stride=(1, 1), padding=(1, 1))\n",
              "    (1): ReLU()\n",
              "    (2): Conv2d(16, 32, kernel_size=(3, 3), stride=(1, 1), padding=(1, 1))\n",
              "    (3): ReLU()\n",
              "    (4): MaxPool2d(kernel_size=(2, 2), stride=(2, 2), padding=0, dilation=1, ceil_mode=False)\n",
              "  )\n",
              "  (conv2_block): Sequential(\n",
              "    (0): Conv2d(32, 64, kernel_size=(3, 3), stride=(1, 1), padding=(1, 1))\n",
              "    (1): ReLU()\n",
              "    (2): Conv2d(64, 128, kernel_size=(3, 3), stride=(1, 1), padding=(1, 1))\n",
              "    (3): ReLU()\n",
              "    (4): MaxPool2d(kernel_size=(2, 2), stride=(2, 2), padding=0, dilation=1, ceil_mode=False)\n",
              "  )\n",
              "  (classifier): Sequential(\n",
              "    (0): Flatten(start_dim=1, end_dim=-1)\n",
              "    (1): Linear(in_features=96000, out_features=372, bias=True)\n",
              "  )\n",
              ")"
            ]
          },
          "metadata": {},
          "execution_count": 41
        }
      ]
    },
    {
      "cell_type": "code",
      "source": [
        "outputs = model_0(images.to(device))\n",
        "outputs"
      ],
      "metadata": {
        "colab": {
          "base_uri": "https://localhost:8080/"
        },
        "id": "4bE-nFLh2_P0",
        "outputId": "09c6b732-9f76-4428-e469-75a90b6dbe4f"
      },
      "execution_count": 36,
      "outputs": [
        {
          "output_type": "stream",
          "name": "stdout",
          "text": [
            "torch.Size([1, 32, 30, 100])\n",
            "torch.Size([1, 128, 15, 50])\n",
            "After flatten: torch.Size([1, 372])\n"
          ]
        },
        {
          "output_type": "execute_result",
          "data": {
            "text/plain": [
              "tensor([[[-1.5108e-02,  1.0823e-02, -9.6506e-03,  5.5578e-03,  7.4586e-03,\n",
              "           1.3438e-02, -2.5594e-02, -3.1376e-03, -1.0784e-02, -7.4501e-03,\n",
              "           1.0349e-02,  1.1674e-02, -9.6160e-03, -1.5677e-02,  2.9044e-03,\n",
              "          -4.7007e-04, -1.2240e-02, -1.5620e-02, -1.0404e-02, -4.4211e-03,\n",
              "          -1.2054e-02, -1.0791e-02,  1.6899e-03, -1.2355e-03, -3.3479e-02,\n",
              "           1.2824e-02,  1.3671e-02,  8.5891e-03, -6.9536e-03, -1.7904e-02,\n",
              "          -1.5417e-02,  2.9772e-02,  3.2013e-02, -1.1100e-02, -9.6180e-03,\n",
              "           8.0164e-03, -7.3622e-04, -7.9685e-03, -5.9795e-03, -3.5337e-02,\n",
              "           1.1325e-02, -2.2043e-02,  4.5002e-02, -2.7356e-03,  4.3168e-03,\n",
              "          -1.0068e-03,  2.0950e-02, -1.7669e-02, -5.5322e-03,  6.5249e-03,\n",
              "          -9.3961e-03,  4.6271e-03,  1.7230e-02,  7.5100e-03,  2.0197e-02,\n",
              "          -6.2828e-04, -1.3476e-02,  9.3033e-05, -1.1947e-02,  2.7705e-03,\n",
              "           3.4993e-03, -1.9071e-03],\n",
              "         [ 1.5278e-02,  1.6672e-02, -1.3329e-02,  2.8359e-02,  7.9080e-04,\n",
              "           9.4250e-03,  1.5705e-03, -4.9734e-03,  1.2505e-02,  4.0796e-03,\n",
              "           1.6053e-02, -1.5392e-02, -7.1709e-03,  2.6135e-02,  1.3583e-02,\n",
              "          -4.2474e-03, -1.3639e-02, -4.8970e-03, -1.3162e-02, -2.0681e-02,\n",
              "           7.9656e-03,  1.7682e-03, -4.2874e-03, -1.5226e-02,  2.9005e-02,\n",
              "           6.4616e-03,  1.2255e-02,  4.2668e-03, -9.4951e-03, -2.2962e-03,\n",
              "           4.3931e-03, -4.6362e-04, -2.6407e-03, -4.3195e-03, -1.4474e-03,\n",
              "          -5.0614e-03,  5.0234e-03, -1.9631e-02,  2.2261e-02,  1.0626e-02,\n",
              "           1.9609e-03, -3.4248e-02, -5.0393e-03, -7.7195e-03,  3.6984e-03,\n",
              "           1.7614e-02,  9.8681e-03,  9.1371e-03, -1.0381e-02, -2.1122e-02,\n",
              "           6.1743e-03, -3.9222e-03,  2.2960e-03, -3.0798e-02, -8.8103e-04,\n",
              "           2.3206e-02,  3.0132e-03, -2.3578e-02,  2.1979e-02, -1.2667e-02,\n",
              "           6.6140e-03,  8.1649e-03],\n",
              "         [-1.4219e-02,  1.5123e-02, -1.3957e-02, -3.8604e-03,  2.1548e-02,\n",
              "          -1.3732e-02, -8.1331e-03,  3.1163e-03,  1.4622e-02,  1.1015e-02,\n",
              "           3.1951e-02,  1.9911e-02, -1.9895e-02,  6.6552e-03,  7.2541e-03,\n",
              "           3.5618e-03,  1.2213e-02,  9.0123e-04, -4.9855e-03,  6.6539e-03,\n",
              "           2.1114e-02,  1.5735e-02, -8.9024e-03, -1.0353e-02, -6.3220e-03,\n",
              "           1.0791e-02,  7.4651e-04, -2.5022e-02, -1.6462e-02, -2.4774e-02,\n",
              "           1.7289e-02, -3.8295e-02, -2.9239e-04, -8.5127e-03, -2.3314e-03,\n",
              "          -2.9191e-02,  3.0601e-02, -8.6067e-03, -2.8583e-02,  1.8685e-03,\n",
              "           3.7606e-04,  1.7690e-03, -2.0577e-02, -2.4099e-02,  8.3219e-03,\n",
              "           2.6797e-02, -9.5737e-03, -4.7619e-03, -1.7213e-02,  9.8663e-03,\n",
              "           2.4601e-03, -2.0857e-02,  4.9350e-03, -8.0693e-03, -2.8436e-02,\n",
              "           4.6181e-03, -1.5112e-02,  2.5001e-02, -1.5326e-03,  1.5607e-02,\n",
              "           8.2878e-03,  2.7460e-02],\n",
              "         [-5.2782e-03, -1.0086e-02, -2.0195e-03,  1.0398e-03,  3.1626e-02,\n",
              "           2.3945e-02, -2.0156e-02,  3.2018e-02, -3.5691e-03, -1.0799e-02,\n",
              "          -5.9509e-03,  3.0057e-02,  1.0838e-02,  1.8474e-02, -2.1272e-03,\n",
              "          -2.4660e-03, -1.2066e-02,  1.2532e-02, -2.2406e-02,  9.0418e-03,\n",
              "          -9.8075e-03,  3.9743e-03, -7.1386e-03, -1.6574e-02, -8.8747e-03,\n",
              "          -7.5421e-05,  7.4005e-03,  3.8619e-04, -2.3296e-02, -9.1601e-03,\n",
              "          -2.7628e-02,  4.5671e-03, -1.1397e-03,  1.2516e-02, -3.6403e-03,\n",
              "           9.4536e-03,  3.2653e-03, -2.2660e-02, -4.8751e-02, -2.3334e-02,\n",
              "          -1.6483e-02,  1.1695e-02,  1.1912e-02,  2.4514e-03,  2.7789e-02,\n",
              "          -2.6865e-02, -1.0924e-02,  1.5934e-02, -8.6334e-03, -3.7961e-03,\n",
              "           1.0564e-02, -2.0123e-02,  4.1954e-03,  1.2991e-02,  1.9987e-02,\n",
              "          -1.2394e-02,  2.5921e-03, -2.8024e-02, -6.9324e-03,  9.6404e-03,\n",
              "           3.2105e-02, -3.6176e-02],\n",
              "         [ 1.7465e-03, -1.1628e-02, -7.0868e-03, -7.9714e-03, -1.2619e-03,\n",
              "          -2.6104e-02,  4.0779e-02, -3.0073e-02, -2.7330e-02, -2.3873e-03,\n",
              "          -1.9614e-02,  1.3177e-02, -1.9948e-02, -4.2379e-03,  1.1764e-02,\n",
              "          -5.9006e-03,  1.0640e-02, -2.3943e-02, -4.8905e-03, -3.0674e-02,\n",
              "           6.6561e-03, -1.0923e-02,  4.0069e-03,  6.2269e-03,  8.7444e-03,\n",
              "           9.2718e-03,  1.5601e-02,  2.3114e-03,  2.0023e-03,  7.1072e-03,\n",
              "          -5.2918e-03,  1.4858e-02,  2.1725e-03, -7.7660e-03, -3.2864e-03,\n",
              "          -1.4327e-02,  1.5449e-02,  2.0503e-03, -1.9520e-02, -1.1900e-02,\n",
              "           1.3288e-02,  7.1969e-03,  2.2254e-03,  1.8611e-02, -1.1127e-02,\n",
              "           1.7042e-02, -1.3081e-02,  1.3486e-02,  3.4218e-03, -3.1664e-03,\n",
              "           3.8324e-02,  3.2119e-02,  1.4098e-02, -3.5705e-03,  3.5423e-03,\n",
              "           2.9317e-02, -1.9318e-03,  1.3187e-02, -1.1003e-02, -2.0486e-03,\n",
              "           9.1390e-03,  2.3735e-02],\n",
              "         [-2.4734e-02,  1.5858e-02,  1.0800e-02, -5.6076e-03,  1.7525e-02,\n",
              "           9.9175e-03,  1.5433e-02, -1.8916e-02,  1.5364e-05,  3.6409e-03,\n",
              "           1.6111e-02,  3.2035e-02, -4.3886e-02, -3.5899e-02,  2.6006e-02,\n",
              "           7.3361e-03, -1.9391e-02,  7.8668e-04,  2.2127e-02, -1.2774e-02,\n",
              "          -1.5766e-02,  2.7117e-02,  1.1715e-02, -1.8649e-02, -5.0570e-02,\n",
              "           9.0680e-03, -1.2787e-02, -1.0485e-03, -7.7475e-03,  2.5922e-03,\n",
              "           1.8033e-02,  2.1381e-02, -2.2011e-03, -2.2552e-02, -7.0379e-03,\n",
              "          -3.6958e-02,  1.7579e-02, -2.6761e-02,  1.6665e-03, -7.8822e-03,\n",
              "          -2.7156e-02,  7.5318e-03, -3.7508e-04,  1.2574e-02, -1.8723e-02,\n",
              "          -1.5141e-02,  6.9438e-03,  1.6124e-04, -1.4458e-02, -1.1010e-02,\n",
              "          -2.4704e-02, -1.7499e-02,  2.1111e-02, -2.3293e-03,  8.4783e-03,\n",
              "          -4.4322e-03,  8.5662e-04,  3.2122e-02, -1.1384e-02, -2.3383e-02,\n",
              "          -7.4903e-03,  1.2309e-02]]], device='cuda:0',\n",
              "       grad_fn=<ViewBackward0>)"
            ]
          },
          "metadata": {},
          "execution_count": 36
        }
      ]
    },
    {
      "cell_type": "code",
      "source": [
        "def accucary_fn(y_pred, y_true):\n",
        "  correct = torch.eq(y_pred, y_true).sum().item()\n",
        "  acc = (correct / len(y_pred)) * 100\n",
        "  return acc"
      ],
      "metadata": {
        "id": "8qhUi39d4sfZ"
      },
      "execution_count": 39,
      "outputs": []
    },
    {
      "cell_type": "code",
      "source": [
        "loss_fn = nn.CrossEntropyLoss()\n",
        "optimizer = torch.optim.Adam(params = model_0.parameters(), lr = 0.01)"
      ],
      "metadata": {
        "id": "4i-fMy972SFN"
      },
      "execution_count": 47,
      "outputs": []
    },
    {
      "cell_type": "code",
      "source": [
        "epochs = 10\n",
        "\n",
        "for epoch in range(epochs):\n",
        "  print(f\"Epochs: {epoch+1}----------\")\n",
        "  train_loss = 0\n",
        "  model_0.train()\n",
        "  for batch, (X,y) in enumerate(train_loader):\n",
        "    X, y = X.to(device), y.to(device)\n",
        "    y_pred = model_0(X)\n",
        "    loss = loss_fn(y_pred.view(-1, len(chars)), y.view(-1).long())\n",
        "\n",
        "    optimizer.zero_grad()\n",
        "    loss.backward()\n",
        "    optimizer.step()\n",
        "\n",
        "    if batch % 100 == 0:\n",
        "      print(f\"Batch: {batch} | Loss: {loss.item()}\")\n",
        "\n",
        "  train_loss /= len(train_loader)\n",
        "\n",
        "  test_loss, test_acc = 0,0\n",
        "  model_0.eval()\n",
        "  with torch.inference_mode():\n",
        "    for X, y in test_loader:\n",
        "      X, y = X.to(device), y.to(device)\n",
        "      test_pred = model_0(X)\n",
        "      test_loss += loss_fn(test_pred.view(-1, len(chars)), y.view(-1).long())\n",
        "      test_acc += accucary_fn(test_pred.argmax(dim=2).view(-1), y.view(-1))\n",
        "\n",
        "  test_loss = test_loss / len(test_loader)\n",
        "  test_acc = test_acc / len(test_loader)\n",
        "\n",
        "  print(f\"Train Loss: {train_loss} | Test Loss: {test_loss} | Test accuracy: {test_acc}\")\n",
        "\n"
      ],
      "metadata": {
        "colab": {
          "base_uri": "https://localhost:8080/",
          "height": 496
        },
        "id": "hfZulQmP3uJD",
        "outputId": "2ff66655-2445-4f65-dc72-c70b1b6700d9"
      },
      "execution_count": 48,
      "outputs": [
        {
          "output_type": "stream",
          "name": "stdout",
          "text": [
            "Epochs: 1----------\n",
            "Batch: 0 | Loss: 4.129688739776611\n",
            "Batch: 100 | Loss: 4.13423490524292\n",
            "Train Loss: 0.0 | Test Loss: 4.130225658416748 | Test accuracy: 1.4241536458333333\n",
            "Epochs: 2----------\n",
            "Batch: 0 | Loss: 4.121553897857666\n",
            "Batch: 100 | Loss: 4.13302755355835\n"
          ]
        },
        {
          "output_type": "error",
          "ename": "KeyboardInterrupt",
          "evalue": "",
          "traceback": [
            "\u001b[0;31m---------------------------------------------------------------------------\u001b[0m",
            "\u001b[0;31mKeyboardInterrupt\u001b[0m                         Traceback (most recent call last)",
            "\u001b[0;32m/tmp/ipython-input-1541963537.py\u001b[0m in \u001b[0;36m<cell line: 0>\u001b[0;34m()\u001b[0m\n\u001b[1;32m      5\u001b[0m   \u001b[0mtrain_loss\u001b[0m \u001b[0;34m=\u001b[0m \u001b[0;36m0\u001b[0m\u001b[0;34m\u001b[0m\u001b[0;34m\u001b[0m\u001b[0m\n\u001b[1;32m      6\u001b[0m   \u001b[0mmodel_0\u001b[0m\u001b[0;34m.\u001b[0m\u001b[0mtrain\u001b[0m\u001b[0;34m(\u001b[0m\u001b[0;34m)\u001b[0m\u001b[0;34m\u001b[0m\u001b[0;34m\u001b[0m\u001b[0m\n\u001b[0;32m----> 7\u001b[0;31m   \u001b[0;32mfor\u001b[0m \u001b[0mbatch\u001b[0m\u001b[0;34m,\u001b[0m \u001b[0;34m(\u001b[0m\u001b[0mX\u001b[0m\u001b[0;34m,\u001b[0m\u001b[0my\u001b[0m\u001b[0;34m)\u001b[0m \u001b[0;32min\u001b[0m \u001b[0menumerate\u001b[0m\u001b[0;34m(\u001b[0m\u001b[0mtrain_loader\u001b[0m\u001b[0;34m)\u001b[0m\u001b[0;34m:\u001b[0m\u001b[0;34m\u001b[0m\u001b[0;34m\u001b[0m\u001b[0m\n\u001b[0m\u001b[1;32m      8\u001b[0m     \u001b[0mX\u001b[0m\u001b[0;34m,\u001b[0m \u001b[0my\u001b[0m \u001b[0;34m=\u001b[0m \u001b[0mX\u001b[0m\u001b[0;34m.\u001b[0m\u001b[0mto\u001b[0m\u001b[0;34m(\u001b[0m\u001b[0mdevice\u001b[0m\u001b[0;34m)\u001b[0m\u001b[0;34m,\u001b[0m \u001b[0my\u001b[0m\u001b[0;34m.\u001b[0m\u001b[0mto\u001b[0m\u001b[0;34m(\u001b[0m\u001b[0mdevice\u001b[0m\u001b[0;34m)\u001b[0m\u001b[0;34m\u001b[0m\u001b[0;34m\u001b[0m\u001b[0m\n\u001b[1;32m      9\u001b[0m     \u001b[0my_pred\u001b[0m \u001b[0;34m=\u001b[0m \u001b[0mmodel_0\u001b[0m\u001b[0;34m(\u001b[0m\u001b[0mX\u001b[0m\u001b[0;34m)\u001b[0m\u001b[0;34m\u001b[0m\u001b[0;34m\u001b[0m\u001b[0m\n",
            "\u001b[0;32m/usr/local/lib/python3.11/dist-packages/torch/utils/data/dataloader.py\u001b[0m in \u001b[0;36m__next__\u001b[0;34m(self)\u001b[0m\n\u001b[1;32m    706\u001b[0m                 \u001b[0;31m# TODO(https://github.com/pytorch/pytorch/issues/76750)\u001b[0m\u001b[0;34m\u001b[0m\u001b[0;34m\u001b[0m\u001b[0m\n\u001b[1;32m    707\u001b[0m                 \u001b[0mself\u001b[0m\u001b[0;34m.\u001b[0m\u001b[0m_reset\u001b[0m\u001b[0;34m(\u001b[0m\u001b[0;34m)\u001b[0m  \u001b[0;31m# type: ignore[call-arg]\u001b[0m\u001b[0;34m\u001b[0m\u001b[0;34m\u001b[0m\u001b[0m\n\u001b[0;32m--> 708\u001b[0;31m             \u001b[0mdata\u001b[0m \u001b[0;34m=\u001b[0m \u001b[0mself\u001b[0m\u001b[0;34m.\u001b[0m\u001b[0m_next_data\u001b[0m\u001b[0;34m(\u001b[0m\u001b[0;34m)\u001b[0m\u001b[0;34m\u001b[0m\u001b[0;34m\u001b[0m\u001b[0m\n\u001b[0m\u001b[1;32m    709\u001b[0m             \u001b[0mself\u001b[0m\u001b[0;34m.\u001b[0m\u001b[0m_num_yielded\u001b[0m \u001b[0;34m+=\u001b[0m \u001b[0;36m1\u001b[0m\u001b[0;34m\u001b[0m\u001b[0;34m\u001b[0m\u001b[0m\n\u001b[1;32m    710\u001b[0m             if (\n",
            "\u001b[0;32m/usr/local/lib/python3.11/dist-packages/torch/utils/data/dataloader.py\u001b[0m in \u001b[0;36m_next_data\u001b[0;34m(self)\u001b[0m\n\u001b[1;32m    762\u001b[0m     \u001b[0;32mdef\u001b[0m \u001b[0m_next_data\u001b[0m\u001b[0;34m(\u001b[0m\u001b[0mself\u001b[0m\u001b[0;34m)\u001b[0m\u001b[0;34m:\u001b[0m\u001b[0;34m\u001b[0m\u001b[0;34m\u001b[0m\u001b[0m\n\u001b[1;32m    763\u001b[0m         \u001b[0mindex\u001b[0m \u001b[0;34m=\u001b[0m \u001b[0mself\u001b[0m\u001b[0;34m.\u001b[0m\u001b[0m_next_index\u001b[0m\u001b[0;34m(\u001b[0m\u001b[0;34m)\u001b[0m  \u001b[0;31m# may raise StopIteration\u001b[0m\u001b[0;34m\u001b[0m\u001b[0;34m\u001b[0m\u001b[0m\n\u001b[0;32m--> 764\u001b[0;31m         \u001b[0mdata\u001b[0m \u001b[0;34m=\u001b[0m \u001b[0mself\u001b[0m\u001b[0;34m.\u001b[0m\u001b[0m_dataset_fetcher\u001b[0m\u001b[0;34m.\u001b[0m\u001b[0mfetch\u001b[0m\u001b[0;34m(\u001b[0m\u001b[0mindex\u001b[0m\u001b[0;34m)\u001b[0m  \u001b[0;31m# may raise StopIteration\u001b[0m\u001b[0;34m\u001b[0m\u001b[0;34m\u001b[0m\u001b[0m\n\u001b[0m\u001b[1;32m    765\u001b[0m         \u001b[0;32mif\u001b[0m \u001b[0mself\u001b[0m\u001b[0;34m.\u001b[0m\u001b[0m_pin_memory\u001b[0m\u001b[0;34m:\u001b[0m\u001b[0;34m\u001b[0m\u001b[0;34m\u001b[0m\u001b[0m\n\u001b[1;32m    766\u001b[0m             \u001b[0mdata\u001b[0m \u001b[0;34m=\u001b[0m \u001b[0m_utils\u001b[0m\u001b[0;34m.\u001b[0m\u001b[0mpin_memory\u001b[0m\u001b[0;34m.\u001b[0m\u001b[0mpin_memory\u001b[0m\u001b[0;34m(\u001b[0m\u001b[0mdata\u001b[0m\u001b[0;34m,\u001b[0m \u001b[0mself\u001b[0m\u001b[0;34m.\u001b[0m\u001b[0m_pin_memory_device\u001b[0m\u001b[0;34m)\u001b[0m\u001b[0;34m\u001b[0m\u001b[0;34m\u001b[0m\u001b[0m\n",
            "\u001b[0;32m/usr/local/lib/python3.11/dist-packages/torch/utils/data/_utils/fetch.py\u001b[0m in \u001b[0;36mfetch\u001b[0;34m(self, possibly_batched_index)\u001b[0m\n\u001b[1;32m     50\u001b[0m                 \u001b[0mdata\u001b[0m \u001b[0;34m=\u001b[0m \u001b[0mself\u001b[0m\u001b[0;34m.\u001b[0m\u001b[0mdataset\u001b[0m\u001b[0;34m.\u001b[0m\u001b[0m__getitems__\u001b[0m\u001b[0;34m(\u001b[0m\u001b[0mpossibly_batched_index\u001b[0m\u001b[0;34m)\u001b[0m\u001b[0;34m\u001b[0m\u001b[0;34m\u001b[0m\u001b[0m\n\u001b[1;32m     51\u001b[0m             \u001b[0;32melse\u001b[0m\u001b[0;34m:\u001b[0m\u001b[0;34m\u001b[0m\u001b[0;34m\u001b[0m\u001b[0m\n\u001b[0;32m---> 52\u001b[0;31m                 \u001b[0mdata\u001b[0m \u001b[0;34m=\u001b[0m \u001b[0;34m[\u001b[0m\u001b[0mself\u001b[0m\u001b[0;34m.\u001b[0m\u001b[0mdataset\u001b[0m\u001b[0;34m[\u001b[0m\u001b[0midx\u001b[0m\u001b[0;34m]\u001b[0m \u001b[0;32mfor\u001b[0m \u001b[0midx\u001b[0m \u001b[0;32min\u001b[0m \u001b[0mpossibly_batched_index\u001b[0m\u001b[0;34m]\u001b[0m\u001b[0;34m\u001b[0m\u001b[0;34m\u001b[0m\u001b[0m\n\u001b[0m\u001b[1;32m     53\u001b[0m         \u001b[0;32melse\u001b[0m\u001b[0;34m:\u001b[0m\u001b[0;34m\u001b[0m\u001b[0;34m\u001b[0m\u001b[0m\n\u001b[1;32m     54\u001b[0m             \u001b[0mdata\u001b[0m \u001b[0;34m=\u001b[0m \u001b[0mself\u001b[0m\u001b[0;34m.\u001b[0m\u001b[0mdataset\u001b[0m\u001b[0;34m[\u001b[0m\u001b[0mpossibly_batched_index\u001b[0m\u001b[0;34m]\u001b[0m\u001b[0;34m\u001b[0m\u001b[0;34m\u001b[0m\u001b[0m\n",
            "\u001b[0;32m/usr/local/lib/python3.11/dist-packages/torch/utils/data/_utils/fetch.py\u001b[0m in \u001b[0;36m<listcomp>\u001b[0;34m(.0)\u001b[0m\n\u001b[1;32m     50\u001b[0m                 \u001b[0mdata\u001b[0m \u001b[0;34m=\u001b[0m \u001b[0mself\u001b[0m\u001b[0;34m.\u001b[0m\u001b[0mdataset\u001b[0m\u001b[0;34m.\u001b[0m\u001b[0m__getitems__\u001b[0m\u001b[0;34m(\u001b[0m\u001b[0mpossibly_batched_index\u001b[0m\u001b[0;34m)\u001b[0m\u001b[0;34m\u001b[0m\u001b[0;34m\u001b[0m\u001b[0m\n\u001b[1;32m     51\u001b[0m             \u001b[0;32melse\u001b[0m\u001b[0;34m:\u001b[0m\u001b[0;34m\u001b[0m\u001b[0;34m\u001b[0m\u001b[0m\n\u001b[0;32m---> 52\u001b[0;31m                 \u001b[0mdata\u001b[0m \u001b[0;34m=\u001b[0m \u001b[0;34m[\u001b[0m\u001b[0mself\u001b[0m\u001b[0;34m.\u001b[0m\u001b[0mdataset\u001b[0m\u001b[0;34m[\u001b[0m\u001b[0midx\u001b[0m\u001b[0;34m]\u001b[0m \u001b[0;32mfor\u001b[0m \u001b[0midx\u001b[0m \u001b[0;32min\u001b[0m \u001b[0mpossibly_batched_index\u001b[0m\u001b[0;34m]\u001b[0m\u001b[0;34m\u001b[0m\u001b[0;34m\u001b[0m\u001b[0m\n\u001b[0m\u001b[1;32m     53\u001b[0m         \u001b[0;32melse\u001b[0m\u001b[0;34m:\u001b[0m\u001b[0;34m\u001b[0m\u001b[0;34m\u001b[0m\u001b[0m\n\u001b[1;32m     54\u001b[0m             \u001b[0mdata\u001b[0m \u001b[0;34m=\u001b[0m \u001b[0mself\u001b[0m\u001b[0;34m.\u001b[0m\u001b[0mdataset\u001b[0m\u001b[0;34m[\u001b[0m\u001b[0mpossibly_batched_index\u001b[0m\u001b[0;34m]\u001b[0m\u001b[0;34m\u001b[0m\u001b[0;34m\u001b[0m\u001b[0m\n",
            "\u001b[0;32m/tmp/ipython-input-1438520523.py\u001b[0m in \u001b[0;36m__getitem__\u001b[0;34m(self, index)\u001b[0m\n\u001b[1;32m      9\u001b[0m   \u001b[0;32mdef\u001b[0m \u001b[0m__getitem__\u001b[0m\u001b[0;34m(\u001b[0m\u001b[0mself\u001b[0m\u001b[0;34m,\u001b[0m \u001b[0mindex\u001b[0m\u001b[0;34m)\u001b[0m\u001b[0;34m:\u001b[0m\u001b[0;34m\u001b[0m\u001b[0;34m\u001b[0m\u001b[0m\n\u001b[1;32m     10\u001b[0m     \u001b[0mimage_path\u001b[0m \u001b[0;34m=\u001b[0m \u001b[0mself\u001b[0m\u001b[0;34m.\u001b[0m\u001b[0mimage_path\u001b[0m\u001b[0;34m[\u001b[0m\u001b[0mindex\u001b[0m\u001b[0;34m]\u001b[0m\u001b[0;34m\u001b[0m\u001b[0;34m\u001b[0m\u001b[0m\n\u001b[0;32m---> 11\u001b[0;31m     \u001b[0mimage\u001b[0m \u001b[0;34m=\u001b[0m \u001b[0mImage\u001b[0m\u001b[0;34m.\u001b[0m\u001b[0mopen\u001b[0m\u001b[0;34m(\u001b[0m\u001b[0mimage_path\u001b[0m\u001b[0;34m)\u001b[0m\u001b[0;34m.\u001b[0m\u001b[0mconvert\u001b[0m\u001b[0;34m(\u001b[0m\u001b[0;34m'RGB'\u001b[0m\u001b[0;34m)\u001b[0m\u001b[0;34m\u001b[0m\u001b[0;34m\u001b[0m\u001b[0m\n\u001b[0m\u001b[1;32m     12\u001b[0m \u001b[0;34m\u001b[0m\u001b[0m\n\u001b[1;32m     13\u001b[0m     \u001b[0mfile_name\u001b[0m \u001b[0;34m=\u001b[0m \u001b[0mimage_path\u001b[0m\u001b[0;34m.\u001b[0m\u001b[0mstem\u001b[0m\u001b[0;34m\u001b[0m\u001b[0;34m\u001b[0m\u001b[0m\n",
            "\u001b[0;32m/usr/local/lib/python3.11/dist-packages/PIL/Image.py\u001b[0m in \u001b[0;36mopen\u001b[0;34m(fp, mode, formats)\u001b[0m\n\u001b[1;32m   3511\u001b[0m     \u001b[0;32mif\u001b[0m \u001b[0mis_path\u001b[0m\u001b[0;34m(\u001b[0m\u001b[0mfp\u001b[0m\u001b[0;34m)\u001b[0m\u001b[0;34m:\u001b[0m\u001b[0;34m\u001b[0m\u001b[0;34m\u001b[0m\u001b[0m\n\u001b[1;32m   3512\u001b[0m         \u001b[0mfilename\u001b[0m \u001b[0;34m=\u001b[0m \u001b[0mos\u001b[0m\u001b[0;34m.\u001b[0m\u001b[0mfspath\u001b[0m\u001b[0;34m(\u001b[0m\u001b[0mfp\u001b[0m\u001b[0;34m)\u001b[0m\u001b[0;34m\u001b[0m\u001b[0;34m\u001b[0m\u001b[0m\n\u001b[0;32m-> 3513\u001b[0;31m         \u001b[0mfp\u001b[0m \u001b[0;34m=\u001b[0m \u001b[0mbuiltins\u001b[0m\u001b[0;34m.\u001b[0m\u001b[0mopen\u001b[0m\u001b[0;34m(\u001b[0m\u001b[0mfilename\u001b[0m\u001b[0;34m,\u001b[0m \u001b[0;34m\"rb\"\u001b[0m\u001b[0;34m)\u001b[0m\u001b[0;34m\u001b[0m\u001b[0;34m\u001b[0m\u001b[0m\n\u001b[0m\u001b[1;32m   3514\u001b[0m         \u001b[0mexclusive_fp\u001b[0m \u001b[0;34m=\u001b[0m \u001b[0;32mTrue\u001b[0m\u001b[0;34m\u001b[0m\u001b[0;34m\u001b[0m\u001b[0m\n\u001b[1;32m   3515\u001b[0m     \u001b[0;32melse\u001b[0m\u001b[0;34m:\u001b[0m\u001b[0;34m\u001b[0m\u001b[0;34m\u001b[0m\u001b[0m\n",
            "\u001b[0;31mKeyboardInterrupt\u001b[0m: "
          ]
        }
      ]
    },
    {
      "cell_type": "code",
      "source": [],
      "metadata": {
        "id": "9y7oePzW45Ct"
      },
      "execution_count": null,
      "outputs": []
    }
  ]
}