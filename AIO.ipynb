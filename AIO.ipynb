{
  "nbformat": 4,
  "nbformat_minor": 0,
  "metadata": {
    "colab": {
      "provenance": [],
      "authorship_tag": "ABX9TyNintTutZ31J0Rq7KbxVtqc",
      "include_colab_link": true
    },
    "kernelspec": {
      "name": "python3",
      "display_name": "Python 3"
    },
    "language_info": {
      "name": "python"
    }
  },
  "cells": [
    {
      "cell_type": "markdown",
      "metadata": {
        "id": "view-in-github",
        "colab_type": "text"
      },
      "source": [
        "<a href=\"https://colab.research.google.com/github/Muzsek/Captcha_AI_2/blob/main/AIO.ipynb\" target=\"_parent\"><img src=\"https://colab.research.google.com/assets/colab-badge.svg\" alt=\"Open In Colab\"/></a>"
      ]
    },
    {
      "cell_type": "code",
      "execution_count": 1,
      "metadata": {
        "colab": {
          "base_uri": "https://localhost:8080/"
        },
        "id": "HAS2-xDCYZSN",
        "outputId": "693eec5b-8600-43ca-e8c2-16e60cbc4c51"
      },
      "outputs": [
        {
          "output_type": "stream",
          "name": "stdout",
          "text": [
            "Collecting captcha\n",
            "  Downloading captcha-0.7.1-py3-none-any.whl.metadata (2.2 kB)\n",
            "Requirement already satisfied: Pillow in /usr/local/lib/python3.11/dist-packages (from captcha) (11.3.0)\n",
            "Downloading captcha-0.7.1-py3-none-any.whl (147 kB)\n",
            "\u001b[?25l   \u001b[90m━━━━━━━━━━━━━━━━━━━━━━━━━━━━━━━━━━━━━━━━\u001b[0m \u001b[32m0.0/147.6 kB\u001b[0m \u001b[31m?\u001b[0m eta \u001b[36m-:--:--\u001b[0m\r\u001b[2K   \u001b[91m━━━━━━━━━━━━━━━━━━━━━━━━━━━━━━━━━━━━━━\u001b[0m\u001b[91m╸\u001b[0m\u001b[90m━\u001b[0m \u001b[32m143.4/147.6 kB\u001b[0m \u001b[31m4.4 MB/s\u001b[0m eta \u001b[36m0:00:01\u001b[0m\r\u001b[2K   \u001b[90m━━━━━━━━━━━━━━━━━━━━━━━━━━━━━━━━━━━━━━━━\u001b[0m \u001b[32m147.6/147.6 kB\u001b[0m \u001b[31m3.2 MB/s\u001b[0m eta \u001b[36m0:00:00\u001b[0m\n",
            "\u001b[?25hInstalling collected packages: captcha\n",
            "Successfully installed captcha-0.7.1\n"
          ]
        }
      ],
      "source": [
        "!pip install captcha"
      ]
    },
    {
      "cell_type": "code",
      "source": [
        "import torch\n",
        "from captcha.image import ImageCaptcha\n",
        "import numpy as np\n",
        "import matplotlib.pyplot as plt\n",
        "from torch.utils.data import Dataset\n",
        "from torch.utils.data import DataLoader\n",
        "from torchvision import transforms\n",
        "import string\n",
        "import random\n",
        "from pathlib import Path\n",
        "from PIL import Image"
      ],
      "metadata": {
        "id": "P80_B-c0YbLM"
      },
      "execution_count": 91,
      "outputs": []
    },
    {
      "cell_type": "code",
      "source": [
        "!mkdir data\n",
        "!mkdir ./data/training\n",
        "!mkdir ./data/testing"
      ],
      "metadata": {
        "id": "6409wzAkcqrN"
      },
      "execution_count": 54,
      "outputs": []
    },
    {
      "cell_type": "code",
      "source": [
        "from ast import Num\n",
        "training_path = Path('./data/training')\n",
        "testing_path = Path('./data/testing')\n",
        "\n",
        "chars = string.ascii_lowercase + string.ascii_uppercase + string.digits\n",
        "# chars\n",
        "chars_to_num = {char: i for i, char in enumerate(chars)}\n",
        "num_to_chars = {i: char for i, char in enumerate(chars)}\n",
        "\n",
        "label_test = \"aAa123\"\n",
        "label_num = [chars_to_num[char] for char in label_test]\n",
        "label_num"
      ],
      "metadata": {
        "colab": {
          "base_uri": "https://localhost:8080/"
        },
        "id": "xgjLLPcscwEm",
        "outputId": "b3d4b183-4632-4613-ea84-5784b9d6ff24"
      },
      "execution_count": 99,
      "outputs": [
        {
          "output_type": "execute_result",
          "data": {
            "text/plain": [
              "[0, 26, 0, 53, 54, 55]"
            ]
          },
          "metadata": {},
          "execution_count": 99
        }
      ]
    },
    {
      "cell_type": "code",
      "source": [
        "# image = ImageCaptcha(width=200, height=60)\n",
        "\n",
        "# for i in range(10000):\n",
        "#   label = ''.join(random.choices(chars, k=6))\n",
        "#   data = image.generate(label)\n",
        "#   image.write(label, f'{training_path}/{label}_{i}.png')\n",
        "\n",
        "# for i in range(2000):\n",
        "#   label = ''.join(random.choices(chars, k=6))\n",
        "#   data = image.generate(label)\n",
        "#   image.write(label, f'{testing_path}/{label}_{i}.png')"
      ],
      "metadata": {
        "id": "nFk7gBH1rOdL"
      },
      "execution_count": null,
      "outputs": []
    },
    {
      "cell_type": "code",
      "source": [
        "# !rm -rf ./data/training/*\n",
        "# !rm -rf ./data/testing/*"
      ],
      "metadata": {
        "id": "3BybUgcrc9c9"
      },
      "execution_count": 66,
      "outputs": []
    },
    {
      "cell_type": "code",
      "source": [
        "len(list(training_path.glob('*')))\n",
        "len(list(testing_path.glob('*')))"
      ],
      "metadata": {
        "colab": {
          "base_uri": "https://localhost:8080/"
        },
        "id": "z24Iz9EhfNOg",
        "outputId": "7e17b2d2-40c7-4e38-8c5a-158f8b90e62b"
      },
      "execution_count": 69,
      "outputs": [
        {
          "output_type": "execute_result",
          "data": {
            "text/plain": [
              "2000"
            ]
          },
          "metadata": {},
          "execution_count": 69
        }
      ]
    },
    {
      "cell_type": "code",
      "source": [
        "train_data = list(training_path.glob('*'))\n",
        "test_data = list(testing_path.glob('*'))"
      ],
      "metadata": {
        "id": "Rt-Khk3fiDrx"
      },
      "execution_count": 112,
      "outputs": []
    },
    {
      "cell_type": "code",
      "source": [
        "print(f\"{train_data[0]}\\n{test_data[0]}\")"
      ],
      "metadata": {
        "colab": {
          "base_uri": "https://localhost:8080/"
        },
        "id": "LzOU5PVDiLoo",
        "outputId": "16359300-4c2d-4e70-d411-24957f82942a"
      },
      "execution_count": 113,
      "outputs": [
        {
          "output_type": "stream",
          "name": "stdout",
          "text": [
            "data/training/ZVJ9eJ_2245.png\n",
            "data/testing/muP1ut_1741.png\n"
          ]
        }
      ]
    },
    {
      "cell_type": "code",
      "source": [
        "transform = transforms.Compose([\n",
        "    transforms.ToTensor(),\n",
        "    transforms.Normalize((0.5,), (0.5,))\n",
        "])"
      ],
      "metadata": {
        "id": "KWvVRM_ViMd7"
      },
      "execution_count": 84,
      "outputs": []
    },
    {
      "cell_type": "code",
      "source": [
        "class CaptchaDataset(Dataset):\n",
        "  def __init__(self, image_path, transform):\n",
        "    self.image_path = image_path\n",
        "    self.transform = transform\n",
        "\n",
        "  def __len__(self):\n",
        "    return len(self.image_path)\n",
        "\n",
        "  def __getitem__(self, index):\n",
        "    image_path = self.image_path[index]\n",
        "    image = Image.open(image_path).convert('RGB')\n",
        "\n",
        "    file_name = image_path.stem\n",
        "    label_char = file_name.split('_')[0]\n",
        "\n",
        "    label_num = [chars_to_num[char] for char in label_char]\n",
        "\n",
        "    return self.transform(image), torch.tensor(label_num, dtype=torch.long)"
      ],
      "metadata": {
        "id": "kvg1nthyojUL"
      },
      "execution_count": 114,
      "outputs": []
    },
    {
      "cell_type": "code",
      "source": [
        "train_dataset = CaptchaDataset(train_data, transform = transform)\n",
        "test_dataset = CaptchaDataset(test_data, transform = transform)"
      ],
      "metadata": {
        "id": "fZOi5sXDsAgi"
      },
      "execution_count": 134,
      "outputs": []
    },
    {
      "cell_type": "code",
      "source": [
        "print([num_to_chars[int(chars)] for chars in train_dataset[0][1]])\n",
        "train_data[0]"
      ],
      "metadata": {
        "colab": {
          "base_uri": "https://localhost:8080/"
        },
        "id": "1E_72k7rsrXD",
        "outputId": "759b8d78-93e1-4c9d-9de1-59ec846ab890"
      },
      "execution_count": 132,
      "outputs": [
        {
          "output_type": "stream",
          "name": "stdout",
          "text": [
            "['Z', 'V', 'J', '9', 'e', 'J']\n"
          ]
        },
        {
          "output_type": "execute_result",
          "data": {
            "text/plain": [
              "PosixPath('data/training/ZVJ9eJ_2245.png')"
            ]
          },
          "metadata": {},
          "execution_count": 132
        }
      ]
    },
    {
      "cell_type": "code",
      "source": [
        "train_loader = DataLoader(train_dataset, batch_size=64, shuffle=True)\n",
        "test_loader = DataLoader(test_dataset, batch_size=64, shuffle=False)\n",
        "train_dummy_loader = DataLoader(train_dataset, batch_size=1, shuffle=True)\n",
        "test_dummy_loader = DataLoader(test_dataset, batch_size=1, shuffle=False)"
      ],
      "metadata": {
        "id": "wU_Iefb-smo_"
      },
      "execution_count": 137,
      "outputs": []
    },
    {
      "cell_type": "code",
      "source": [
        "for images, labels in train_dummy_loader:\n",
        "    print(\"Images batch shape:\", images.shape) # Batch size, C, H, W\n",
        "    print(\"Labels batch:\", labels)\n",
        "    break"
      ],
      "metadata": {
        "colab": {
          "base_uri": "https://localhost:8080/"
        },
        "id": "SzwX7lPm23Fh",
        "outputId": "6a2f0419-cf87-409c-eb76-7744cf835c05"
      },
      "execution_count": 141,
      "outputs": [
        {
          "output_type": "stream",
          "name": "stdout",
          "text": [
            "Images batch shape: torch.Size([1, 3, 60, 200])\n",
            "Labels batch: tensor([[43, 32,  0,  0, 54, 11]])\n"
          ]
        }
      ]
    },
    {
      "cell_type": "code",
      "source": [],
      "metadata": {
        "id": "syQiwncc242I"
      },
      "execution_count": null,
      "outputs": []
    }
  ]
}